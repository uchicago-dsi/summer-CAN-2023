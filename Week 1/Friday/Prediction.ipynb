{
 "cells": [
  {
   "cell_type": "code",
   "execution_count": 1,
   "id": "5749e9ba",
   "metadata": {
    "hideCode": false,
    "hidePrompt": false,
    "slideshow": {
     "slide_type": "skip"
    }
   },
   "outputs": [],
   "source": [
    "import numpy as np\n",
    "import pandas as pd\n",
    "import statistics\n",
    "from IPython.display import YouTubeVideo\n",
    "\n",
    "%matplotlib inline\n",
    "import matplotlib.pyplot as plt\n",
    "plt.style.use('fivethirtyeight')"
   ]
  },
  {
   "cell_type": "markdown",
   "id": "a45e7fde",
   "metadata": {
    "cell_style": "center",
    "hideCode": false,
    "hidePrompt": false,
    "slideshow": {
     "slide_type": "slide"
    },
    "tags": [
     "hide_code"
    ]
   },
   "source": [
    "<center> \n",
    "\n",
    "# Prediction, Machine Learning, and Ethics\n",
    "\n",
    "## Amanda R. Kube Jotte\n",
    "    \n",
    "<img src=\"https://raw.githubusercontent.com/amandakube/Data118LectureImages/main/DSSI.png\" width=\"800\">\n",
    "    \n",
    "</center>"
   ]
  },
  {
   "cell_type": "markdown",
   "id": "739c6a99",
   "metadata": {
    "slideshow": {
     "slide_type": "slide"
    }
   },
   "source": [
    "## Remember the Goal of Regression?\n",
    "    \n",
    "To **predict** what happens if we include another data point or points! (within original $x$ bounds.)\n"
   ]
  },
  {
   "cell_type": "markdown",
   "id": "15f557c4",
   "metadata": {
    "slideshow": {
     "slide_type": "fragment"
    }
   },
   "source": [
    "Prediction is the goal of much of the \"Big Data\" collection we hear about\n",
    "- Who is most likely to buy a product?\n",
    "- How quickly will someone recover if given a certain treatment"
   ]
  },
  {
   "cell_type": "markdown",
   "id": "12744773",
   "metadata": {
    "cell_style": "split",
    "slideshow": {
     "slide_type": "fragment"
    }
   },
   "source": [
    "We want to use data from the past to learn patterns and make predictions on new data."
   ]
  },
  {
   "cell_type": "markdown",
   "id": "29d0f170",
   "metadata": {
    "cell_style": "split"
   },
   "source": [
    "<center>\n",
    "<img src=\"https://s.wsj.net/public/resources/images/ON-CJ684_quizgr_B620_20171229134559.jpg\" width=\"500\">\n",
    "</center>"
   ]
  },
  {
   "cell_type": "markdown",
   "id": "d43f81e2",
   "metadata": {
    "slideshow": {
     "slide_type": "fragment"
    }
   },
   "source": [
    "This is called **Machine Learning**!"
   ]
  },
  {
   "cell_type": "markdown",
   "id": "530c403b",
   "metadata": {
    "slideshow": {
     "slide_type": "slide"
    }
   },
   "source": [
    "## Machine Learning and Artifical Intelligence\n",
    "\n",
    "What is the difference?"
   ]
  },
  {
   "cell_type": "markdown",
   "id": "2b8a1cda",
   "metadata": {
    "slideshow": {
     "slide_type": "fragment"
    }
   },
   "source": [
    "Machine Learning is a subset of Artificial Intelligence"
   ]
  },
  {
   "cell_type": "markdown",
   "id": "e3648913",
   "metadata": {
    "cell_style": "split",
    "slideshow": {
     "slide_type": "fragment"
    }
   },
   "source": [
    "AI: The idea that computers can mimic human thought\n",
    "\n",
    "ML: Technology allowing a computer to learn patterns and make decisions based on data"
   ]
  },
  {
   "cell_type": "markdown",
   "id": "d8746d86",
   "metadata": {
    "cell_style": "split"
   },
   "source": [
    "<center>\n",
    "<img src=\"https://img.freepik.com/premium-vector/hand-drawn-vector-drawing-cute-robot-reading-book-about-machine-learning-black-white_725846-349.jpg?w=2000\" width=\"200\">\n",
    "</center>"
   ]
  },
  {
   "cell_type": "markdown",
   "id": "740857fa",
   "metadata": {
    "slideshow": {
     "slide_type": "slide"
    }
   },
   "source": [
    "There are 3 main types of machine learning:\n",
    "- Supervised Learning\n",
    "- Unsupervised Learning\n",
    "- Reinforcement Learning"
   ]
  },
  {
   "cell_type": "markdown",
   "id": "cf437c4b",
   "metadata": {
    "slideshow": {
     "slide_type": "slide"
    }
   },
   "source": [
    "## Supervised Learning\n",
    "\n",
    "Provide data that has labels\n",
    "\n",
    "Example\n",
    "-Classification algorithms like: logistic regression or decision trees\n",
    "\n",
    "<center>\n",
    "<img src=\"https://miro.medium.com/v2/resize:fit:1400/0*BxXP6WPtwl8sgA03\" width=\"400\">\n",
    "</center>"
   ]
  },
  {
   "cell_type": "markdown",
   "id": "66e7d779",
   "metadata": {
    "slideshow": {
     "slide_type": "slide"
    }
   },
   "source": [
    "### Logistic regression\n",
    "\n",
    "Similar in format to linear regression but is used on binary (0,1) data. \n",
    "\n",
    "Used to classify data when there are 2 classes (Called 2-class classification)\n",
    "\n",
    "<center>\n",
    "<img src=\"https://static.javatpoint.com/tutorial/machine-learning/images/linear-regression-vs-logistic-regression.png\" width=\"600\">\n",
    "</center>"
   ]
  },
  {
   "cell_type": "markdown",
   "id": "38a8a84f",
   "metadata": {
    "slideshow": {
     "slide_type": "slide"
    }
   },
   "source": [
    "### Decision Tree\n",
    "\n",
    "Another classification algorithm (or classifier) \n",
    "\n",
    "Has a version that can do regression too (continuous vs categorical data)\n",
    "\n",
    "Should I play tennis today?\n",
    "\n",
    "<center>\n",
    "<img src=\"https://s3-ap-southeast-1.amazonaws.com/he-public-data/Fig%201-18e1a01b.png\" width=\"600\">\n",
    "</center>"
   ]
  },
  {
   "cell_type": "markdown",
   "id": "65abad6c",
   "metadata": {
    "slideshow": {
     "slide_type": "slide"
    }
   },
   "source": [
    "#### Try building one on a small sample...\n",
    "\n",
    "The following is a subset of the Titanic Survivors dataset available from Kaggle https://www.kaggle.com/c/titanic/ . Draw a decision tree that correctly classifies each passenger by the `Survival` column.\n",
    "\n",
    "<center>\n",
    "<img src=\"https://github.com/amandakube/Data118LectureImages/blob/main/titanic_training.png?raw=true\" width=\"600\">\n",
    "</center>\n",
    "\n",
    "----\n",
    "*Activity courtesy of James Madison University*"
   ]
  },
  {
   "cell_type": "markdown",
   "id": "7a3f55a3",
   "metadata": {
    "slideshow": {
     "slide_type": "slide"
    }
   },
   "source": [
    "Now, use your trees to classify this new set of passengers:\n",
    "\n",
    "<center>\n",
    "<img src=\"https://github.com/amandakube/Data118LectureImages/blob/main/titanic_test.png?raw=true\" width=\"600\">\n",
    "</center>"
   ]
  },
  {
   "cell_type": "code",
   "execution_count": null,
   "id": "e676dfac",
   "metadata": {
    "slideshow": {
     "slide_type": "slide"
    }
   },
   "outputs": [],
   "source": [
    "passenger1 = statistics.mode([])\n",
    "passenger2 = statistics.mode([])\n",
    "passenger3 = statistics.mode([])\n",
    "passenger4 = statistics.mode([])\n",
    "print(\"The first passenger's prediction: \", passenger1)\n",
    "print(\"The second passenger's prediction: \", passenger2)\n",
    "print(\"The third passenger's prediction: \", passenger3)\n",
    "print(\"The fourth passenger's prediction: \", passenger4)"
   ]
  },
  {
   "cell_type": "markdown",
   "id": "5b065d02",
   "metadata": {
    "slideshow": {
     "slide_type": "slide"
    }
   },
   "source": [
    "### Ensemble Learning\n",
    "\n",
    "Sometimes we build many algorithms and use them together\n",
    "\n",
    "One example: Random forest:\n",
    "- a group of decision trees (get it?)\n",
    "- some fancy math"
   ]
  },
  {
   "cell_type": "markdown",
   "id": "f3511f84",
   "metadata": {
    "slideshow": {
     "slide_type": "slide"
    }
   },
   "source": [
    "## Unsupervised Learning\n",
    "\n",
    "Provide data without labels\n",
    "\n",
    "Example\n",
    "- Clustering algorithms like kNN (k Nearest Neighbors)\n",
    "\n",
    "<center>\n",
    "<img src=\"https://techvidvan.com/tutorials/wp-content/uploads/sites/2/2020/07/Unsupervised-Learning-in-ML-1.jpg\" width=\"500\">\n",
    "<img src=\"https://miro.medium.com/v2/resize:fit:809/0*tamvSiqDneDfw2Vr\" width=\"400\">\n",
    "</center>"
   ]
  },
  {
   "cell_type": "markdown",
   "id": "a7b22691",
   "metadata": {
    "slideshow": {
     "slide_type": "slide"
    }
   },
   "source": [
    "## Supervised vs Unsupervised Learning\n",
    "\n",
    "<center>\n",
    "<img src=\"https://analystprep.com/study-notes/wp-content/uploads/2021/03/Img_12.jpg\" width=\"600\">\n",
    "</center>"
   ]
  },
  {
   "cell_type": "markdown",
   "id": "7fd94326",
   "metadata": {
    "slideshow": {
     "slide_type": "slide"
    }
   },
   "source": [
    "### Try clustering on a small sample...\n",
    "\n",
    "It's a zombie apocalypse and we want to know where the zombies are located. We are thinking of going to either location A, B, or C below.\n",
    "\n",
    "<center>\n",
    "<img src=\"https://github.com/amandakube/Data118LectureImages/blob/main/zombies_test.png?raw=true\" width=\"600\">\n",
    "</center>\n",
    "\n",
    "Here is the data we have on zombies in other locations\n",
    "\n",
    "<center>\n",
    "<img src=\"https://github.com/amandakube/Data118LectureImages/blob/main/zombie_training.png?raw=true\" width=\"600\">\n",
    "</center>\n",
    "\n",
    "1) In your groups, find the 3 locations with the most similarities to each of location A, B, and C (If some locations have the same level of similarity, choose the ones highest in the list)\n",
    "\n",
    "2) To predict how many zombies could be at each location, we need to take the average of the number of zombies at these three most similar locations.\n",
    "\n",
    "3) Which location has the least zombies?\n",
    "\n",
    "---\n",
    "*Activity courtesy of Gettysburg College*"
   ]
  },
  {
   "cell_type": "markdown",
   "id": "c75274f8",
   "metadata": {
    "slideshow": {
     "slide_type": "slide"
    }
   },
   "source": [
    "## Reinforcement Learning\n",
    "\n",
    "Learn through trail and error\n",
    "\n",
    "<center>\n",
    "<img src=\"https://databasecamp.de/wp-content/uploads/rl-environment-en-e1660197785188-1024x537.png\" width=\"600\">\n",
    "</center>"
   ]
  },
  {
   "cell_type": "code",
   "execution_count": 3,
   "id": "962b3ddd",
   "metadata": {
    "slideshow": {
     "slide_type": "slide"
    }
   },
   "outputs": [
    {
     "data": {
      "image/jpeg": "[encoded data removed]",
      "text/html": [
       "\n",
       "        <iframe\n",
       "            width=\"400\"\n",
       "            height=\"300\"\n",
       "            src=\"https://www.youtube.com/embed/TmPfTpjtdgg\"\n",
       "            frameborder=\"0\"\n",
       "            allowfullscreen\n",
       "            \n",
       "        ></iframe>\n",
       "        "
      ],
      "text/plain": [
       "<IPython.lib.display.YouTubeVideo at 0x13240e350>"
      ]
     },
     "execution_count": 3,
     "metadata": {},
     "output_type": "execute_result"
    }
   ],
   "source": [
    "YouTubeVideo('TmPfTpjtdgg')"
   ]
  },
  {
   "cell_type": "code",
   "execution_count": 4,
   "id": "42ad2b63",
   "metadata": {
    "slideshow": {
     "slide_type": "slide"
    }
   },
   "outputs": [
    {
     "data": {
      "image/jpeg": "[encoded data removed]",
      "text/html": [
       "\n",
       "        <iframe\n",
       "            width=\"400\"\n",
       "            height=\"300\"\n",
       "            src=\"https://www.youtube.com/embed/5GMDbStRgoc\"\n",
       "            frameborder=\"0\"\n",
       "            allowfullscreen\n",
       "            \n",
       "        ></iframe>\n",
       "        "
      ],
      "text/plain": [
       "<IPython.lib.display.YouTubeVideo at 0x1324ff940>"
      ]
     },
     "execution_count": 4,
     "metadata": {},
     "output_type": "execute_result"
    }
   ],
   "source": [
    "YouTubeVideo('5GMDbStRgoc')"
   ]
  },
  {
   "cell_type": "markdown",
   "id": "1157ba89",
   "metadata": {
    "slideshow": {
     "slide_type": "slide"
    }
   },
   "source": [
    "## Some Commonly used Python libraries for Machine Learning"
   ]
  },
  {
   "cell_type": "markdown",
   "id": "72bcc170",
   "metadata": {
    "cell_style": "split"
   },
   "source": [
    "<center>\n",
    "<img src=\"https://upload.wikimedia.org/wikipedia/commons/thumb/0/05/Scikit_learn_logo_small.svg/2560px-Scikit_learn_logo_small.svg.png\" width=\"200\">\n",
    "</center>"
   ]
  },
  {
   "cell_type": "markdown",
   "id": "ef37bb72",
   "metadata": {
    "cell_style": "split"
   },
   "source": [
    "<center>\n",
    "<img src=\"https://upload.wikimedia.org/wikipedia/commons/thumb/1/11/TensorFlowLogo.svg/1200px-TensorFlowLogo.svg.png\" width=\"200\">\n",
    "</center>"
   ]
  },
  {
   "cell_type": "markdown",
   "id": "4e6dc6b9",
   "metadata": {
    "cell_style": "split"
   },
   "source": [
    "<center>\n",
    "<img src=\"https://av-eks-blogoptimized.s3.amazonaws.com/0_xXUYOs5MWWenxoNz-thumbnail_webp-600x300.png\" width=\"200\">\n",
    "</center>"
   ]
  },
  {
   "cell_type": "markdown",
   "id": "5f667320",
   "metadata": {
    "cell_style": "split"
   },
   "source": [
    "<center>\n",
    "<img src=\"https://keras.io/img/logo-k-keras-wb.png\" width=\"200\">\n",
    "</center>"
   ]
  },
  {
   "cell_type": "markdown",
   "id": "c6a257b2",
   "metadata": {
    "slideshow": {
     "slide_type": "slide"
    }
   },
   "source": [
    "## So how does it work?"
   ]
  },
  {
   "cell_type": "code",
   "execution_count": 5,
   "id": "50daac9c",
   "metadata": {
    "slideshow": {
     "slide_type": "slide"
    }
   },
   "outputs": [
    {
     "data": {
      "image/jpeg": "[encoded data removed]",
      "text/html": [
       "\n",
       "        <iframe\n",
       "            width=\"400\"\n",
       "            height=\"300\"\n",
       "            src=\"https://www.youtube.com/embed/OeU5m6vRyCk\"\n",
       "            frameborder=\"0\"\n",
       "            allowfullscreen\n",
       "            \n",
       "        ></iframe>\n",
       "        "
      ],
      "text/plain": [
       "<IPython.lib.display.YouTubeVideo at 0x1324ffbb0>"
      ]
     },
     "execution_count": 5,
     "metadata": {},
     "output_type": "execute_result"
    }
   ],
   "source": [
    "YouTubeVideo('OeU5m6vRyCk')"
   ]
  },
  {
   "cell_type": "markdown",
   "id": "cf6550d6",
   "metadata": {
    "slideshow": {
     "slide_type": "slide"
    }
   },
   "source": [
    "1) Mute your computer\n",
    "\n",
    "2) Work with the person next to you\n",
    "\n",
    "3) Click here: https://studio.code.org/s/oceans/lessons/1/levels/2\n",
    "\n",
    "4) Complete the activity until you get to the next video\n",
    "\n",
    "5) Put the colored post-it on your laptop so I know you are done"
   ]
  },
  {
   "cell_type": "code",
   "execution_count": 6,
   "id": "8481445f",
   "metadata": {
    "slideshow": {
     "slide_type": "slide"
    }
   },
   "outputs": [
    {
     "data": {
      "image/jpeg": "[encoded data removed]",
      "text/html": [
       "\n",
       "        <iframe\n",
       "            width=\"400\"\n",
       "            height=\"300\"\n",
       "            src=\"https://www.youtube.com/embed/x2mRoFNm22g\"\n",
       "            frameborder=\"0\"\n",
       "            allowfullscreen\n",
       "            \n",
       "        ></iframe>\n",
       "        "
      ],
      "text/plain": [
       "<IPython.lib.display.YouTubeVideo at 0x1324ff9d0>"
      ]
     },
     "execution_count": 6,
     "metadata": {},
     "output_type": "execute_result"
    }
   ],
   "source": [
    "YouTubeVideo('x2mRoFNm22g')"
   ]
  },
  {
   "cell_type": "markdown",
   "id": "e78f9582",
   "metadata": {
    "slideshow": {
     "slide_type": "slide"
    }
   },
   "source": [
    "1) Mute your computer\n",
    "\n",
    "2) Work with a NEW partner\n",
    "\n",
    "3) Take the post-it off your laptop\n",
    "\n",
    "4) Click here: https://studio.code.org/s/oceans/lessons/1/levels/6\n",
    "\n",
    "5) Complete the activity until you get to the next video\n",
    "\n",
    "6) Put the colored post-it back on your laptop so I know you are done"
   ]
  },
  {
   "cell_type": "code",
   "execution_count": 7,
   "id": "6da348dc",
   "metadata": {
    "slideshow": {
     "slide_type": "slide"
    }
   },
   "outputs": [
    {
     "data": {
      "image/jpeg": "[encoded data removed]",
      "text/html": [
       "\n",
       "        <iframe\n",
       "            width=\"400\"\n",
       "            height=\"300\"\n",
       "            src=\"https://www.youtube.com/embed/ng4c1g3COfs\"\n",
       "            frameborder=\"0\"\n",
       "            allowfullscreen\n",
       "            \n",
       "        ></iframe>\n",
       "        "
      ],
      "text/plain": [
       "<IPython.lib.display.YouTubeVideo at 0x1324ff970>"
      ]
     },
     "execution_count": 7,
     "metadata": {},
     "output_type": "execute_result"
    }
   ],
   "source": [
    "YouTubeVideo('ng4c1g3COfs')"
   ]
  },
  {
   "cell_type": "markdown",
   "id": "4474e8bf",
   "metadata": {
    "slideshow": {
     "slide_type": "slide"
    }
   },
   "source": [
    "Last one!\n",
    "\n",
    "1) Mute your computer\n",
    "\n",
    "2) Work with a NEW partner\n",
    "\n",
    "3) Take the post-it off your laptop\n",
    "\n",
    "4) Click here: https://studio.code.org/s/oceans/lessons/1/levels/8\n",
    "\n",
    "5) Complete the activity\n",
    "\n",
    "6) Put the colored post-it back on your laptop so I know you are done"
   ]
  },
  {
   "cell_type": "markdown",
   "id": "e3c4f099",
   "metadata": {
    "slideshow": {
     "slide_type": "slide"
    }
   },
   "source": [
    "## In the real world, who chooses how the data is labeled?\n",
    "\n",
    "Who should choose?\n",
    "\n",
    "https://www.moralmachine.net/"
   ]
  },
  {
   "cell_type": "markdown",
   "id": "2daa3b00",
   "metadata": {
    "slideshow": {
     "slide_type": "slide"
    }
   },
   "source": [
    "## When do we have to worry about ethical issues when doing Data Science?"
   ]
  },
  {
   "cell_type": "markdown",
   "id": "0935e78d",
   "metadata": {
    "slideshow": {
     "slide_type": "fragment"
    }
   },
   "source": [
    "## It isn't always cut-and-dry...\n",
    "\n",
    "COMPAS Recidivism Prediction\n",
    "\n",
    "Analysis of COMPAS found by Larson et al. (2016)\n",
    "- Black defendants who did not recidivate over a two-year period were nearly twice as likely to be misclassified as higher risk compared to their white counterparts (45 percent vs. 23 percent)\n",
    "- White defendants who re-offended within the next two years were mistakenly labeled low risk almost twice as often as black re-offenders (48 percent vs. 28 percent).\n",
    "- Even when controlling for prior crimes, future recidivism, age, and gender, black defendants were 77 percent more likely to be assigned higher risk scores than white defendants."
   ]
  },
  {
   "cell_type": "markdown",
   "id": "eec2af20",
   "metadata": {
    "slideshow": {
     "slide_type": "slide"
    }
   },
   "source": [
    "Turns out COMPAS is really fair by other measures:\n",
    "- likelihood of recidivism among high-risk offenders is the same regardless of race (predictive parity), \n",
    "- it can discriminate between recidivists and non-recidivists equally well for white and black defendants\n",
    "\n",
    "Turns out there are multiple definitions of fairness and its proveable that they are not all mutually satisfiable (Kleinberg et al). \n",
    "\n",
    "Even more… Predictions on a single measure (re-arrest) is problematic\n",
    "\n",
    "Key take away - It’s complicated and should give us pause and reflection on entire system."
   ]
  },
  {
   "cell_type": "markdown",
   "id": "7b59402a",
   "metadata": {
    "slideshow": {
     "slide_type": "slide"
    }
   },
   "source": [
    "## Trustworthiness and Accountabililty\n",
    "\n",
    "Do decisionmakers understand what the analysis is doing?\n",
    "\n",
    "Do action-takers understand the trust understand why they’re getting the recommendations they’re getting?  \n",
    "\n",
    "Do the people being acted on understand why?\n",
    "\n",
    "What does it mean when people point at a machine and shrug “we don’t know” ? \n",
    "\n",
    "Who is accountable for the actions?"
   ]
  },
  {
   "cell_type": "markdown",
   "id": "c8335161",
   "metadata": {
    "slideshow": {
     "slide_type": "slide"
    }
   },
   "source": [
    "### In data science, it’s just as important to think about why you are solving or should you solve that \"problem\" as how to solve it!\n",
    "\n",
    "We need to grapple with the ethical challenges and develop rigorous and guiding ethical frameworks for this constantly evolving field\n",
    "\n",
    "Good (or great!) and important work can and should be done - And you will do it!"
   ]
  },
  {
   "cell_type": "markdown",
   "id": "8aa414f2",
   "metadata": {
    "slideshow": {
     "slide_type": "skip"
    }
   },
   "source": []
  }
 ],
 "metadata": {
  "celltoolbar": "Slideshow",
  "hide_code_all_hidden": false,
  "kernelspec": {
   "display_name": "Python 3 (ipykernel)",
   "language": "python",
   "name": "python3"
  },
  "language_info": {
   "codemirror_mode": {
    "name": "ipython",
    "version": 3
   },
   "file_extension": ".py",
   "mimetype": "text/x-python",
   "name": "python",
   "nbconvert_exporter": "python",
   "pygments_lexer": "ipython3",
   "version": "3.10.9"
  },
  "latex_envs": {
   "LaTeX_envs_menu_present": true,
   "autoclose": false,
   "autocomplete": true,
   "bibliofile": "biblio.bib",
   "cite_by": "apalike",
   "current_citInitial": 1,
   "eqLabelWithNumbers": true,
   "eqNumInitial": 1,
   "hotkeys": {
    "equation": "Ctrl-E",
    "itemize": "Ctrl-I"
   },
   "labels_anchors": false,
   "latex_user_defs": false,
   "report_style_numbering": false,
   "user_envs_cfg": false
  },
  "rise": {
   "scroll": true
  },
  "toc": {
   "base_numbering": 1,
   "nav_menu": {},
   "number_sections": false,
   "sideBar": true,
   "skip_h1_title": false,
   "title_cell": "Table of Contents",
   "title_sidebar": "Contents",
   "toc_cell": false,
   "toc_position": {
    "height": "calc(100% - 180px)",
    "left": "10px",
    "top": "150px",
    "width": "165px"
   },
   "toc_section_display": true,
   "toc_window_display": false
  }
 },
 "nbformat": 4,
 "nbformat_minor": 5
}
