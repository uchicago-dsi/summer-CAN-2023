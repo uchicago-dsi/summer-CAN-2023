{
  "cells": [
    {
      "cell_type": "markdown",
      "metadata": {
        "id": "y8T7s95P0j-w"
      },
      "source": [
        "## Data Science for Social Impact\n",
        "# Homework Thursday: Statistics\n",
        "\n",
        "Please complete this notebook by filling in the cells provided. The solved homework should be uploaded to Gradescope on Canvas."
      ]
    },
    {
      "cell_type": "markdown",
      "metadata": {
        "id": "PWfyI6Qk0j-0"
      },
      "source": [
        "#### Deadline:\n",
        "\n",
        "This assignment is due on **Thursday at 11:30pm**.\n",
        "\n",
        "Directly sharing answers is not okay, but discussing problems with eachother is encouraged!\n"
      ]
    },
    {
      "cell_type": "code",
      "execution_count": null,
      "metadata": {
        "id": "M-ftgmNO0j-0"
      },
      "outputs": [],
      "source": [
        "# Don't change this cell; just run it.\n",
        "\n",
        "import numpy as np\n",
        "import pandas as pd\n",
        "from scipy import stats\n",
        "from sklearn.linear_model import LinearRegression\n",
        "\n",
        "from matplotlib import pyplot as plt\n",
        "plt.style.use('fivethirtyeight')"
      ]
    },
    {
      "cell_type": "markdown",
      "metadata": {
        "id": "hEcfUD9zR8sw"
      },
      "source": [
        "## Testing Diabetes\n",
        "\n",
        "Load and familiarize yourself with the data file `diabetes_full.csv`. This data comes in part from Kaggle (I have made a few additions) and has the following description:\n",
        "\n",
        "The Diabetes prediction dataset is a collection of medical and demographic data from patients, along with their diabetes status (positive or negative). The data includes features such as age, gender, body mass index (BMI), hypertension, heart disease, smoking history, HbA1c level, and blood glucose level. This dataset can be used to build machine learning models to predict diabetes in patients based on their medical history and demographic information. This can be useful for healthcare professionals in identifying patients who may be at risk of developing diabetes and in developing personalized treatment plans. Additionally, the dataset can be used by researchers to explore the relationships between various medical and demographic factors and the likelihood of developing diabetes."
      ]
    },
    {
      "cell_type": "code",
      "source": [
        "# Use this cell to read in your data and inspect the first and last few lines\n",
        "db = pd.read_csv(\"diabetes_full.csv\")\n",
        "db"
      ],
      "metadata": {
        "id": "ZhpeCJkT7ErR",
        "colab": {
          "base_uri": "https://localhost:8080/",
          "height": 505
        },
        "outputId": "88a63a3c-8f46-4b95-c948-636e21954b1a"
      },
      "execution_count": null,
      "outputs": [
        {
          "output_type": "execute_result",
          "data": {
            "text/plain": [
              "        Unnamed: 0  gender   age  hypertension  heart_disease smoking_history  \\\n",
              "0                0  Female  80.0             0              1           never   \n",
              "1                1  Female  54.0             0              0         No Info   \n",
              "2                2    Male  28.0             0              0           never   \n",
              "3                3  Female  36.0             0              0         current   \n",
              "4                4    Male  76.0             1              1         current   \n",
              "...            ...     ...   ...           ...            ...             ...   \n",
              "199995       99995  Female  81.0             0              0         No Info   \n",
              "199996       99996  Female   3.0             0              0         No Info   \n",
              "199997       99997    Male  67.0             0              0          former   \n",
              "199998       99998  Female  25.0             0              0           never   \n",
              "199999       99999  Female  58.0             0              0         current   \n",
              "\n",
              "          bmi  HbA1c_level  blood_glucose_level  diabetes        PID  Year  \n",
              "0       25.19          6.6                  140         0       1000  2021  \n",
              "1       27.32          6.6                   80         0       2000  2021  \n",
              "2       27.32          5.7                  158         0       3000  2021  \n",
              "3       23.45          5.0                  155         0       4000  2021  \n",
              "4       20.14          4.8                  155         0       5000  2021  \n",
              "...       ...          ...                  ...       ...        ...   ...  \n",
              "199995  27.32          6.2                   90         0   99996000  2022  \n",
              "199996  17.37          6.5                  100         0   99997000  2022  \n",
              "199997  27.83          5.7                  155         0   99998000  2022  \n",
              "199998  35.42          4.0                  100         0   99999000  2022  \n",
              "199999  22.43          6.6                   90         0  100000000  2022  \n",
              "\n",
              "[200000 rows x 12 columns]"
            ],
            "text/html": [
              "\n",
              "  <div id=\"df-866a1c85-4af0-4a5d-b7e8-871ccadd2b54\">\n",
              "    <div class=\"colab-df-container\">\n",
              "      <div>\n",
              "<style scoped>\n",
              "    .dataframe tbody tr th:only-of-type {\n",
              "        vertical-align: middle;\n",
              "    }\n",
              "\n",
              "    .dataframe tbody tr th {\n",
              "        vertical-align: top;\n",
              "    }\n",
              "\n",
              "    .dataframe thead th {\n",
              "        text-align: right;\n",
              "    }\n",
              "</style>\n",
              "<table border=\"1\" class=\"dataframe\">\n",
              "  <thead>\n",
              "    <tr style=\"text-align: right;\">\n",
              "      <th></th>\n",
              "      <th>Unnamed: 0</th>\n",
              "      <th>gender</th>\n",
              "      <th>age</th>\n",
              "      <th>hypertension</th>\n",
              "      <th>heart_disease</th>\n",
              "      <th>smoking_history</th>\n",
              "      <th>bmi</th>\n",
              "      <th>HbA1c_level</th>\n",
              "      <th>blood_glucose_level</th>\n",
              "      <th>diabetes</th>\n",
              "      <th>PID</th>\n",
              "      <th>Year</th>\n",
              "    </tr>\n",
              "  </thead>\n",
              "  <tbody>\n",
              "    <tr>\n",
              "      <th>0</th>\n",
              "      <td>0</td>\n",
              "      <td>Female</td>\n",
              "      <td>80.0</td>\n",
              "      <td>0</td>\n",
              "      <td>1</td>\n",
              "      <td>never</td>\n",
              "      <td>25.19</td>\n",
              "      <td>6.6</td>\n",
              "      <td>140</td>\n",
              "      <td>0</td>\n",
              "      <td>1000</td>\n",
              "      <td>2021</td>\n",
              "    </tr>\n",
              "    <tr>\n",
              "      <th>1</th>\n",
              "      <td>1</td>\n",
              "      <td>Female</td>\n",
              "      <td>54.0</td>\n",
              "      <td>0</td>\n",
              "      <td>0</td>\n",
              "      <td>No Info</td>\n",
              "      <td>27.32</td>\n",
              "      <td>6.6</td>\n",
              "      <td>80</td>\n",
              "      <td>0</td>\n",
              "      <td>2000</td>\n",
              "      <td>2021</td>\n",
              "    </tr>\n",
              "    <tr>\n",
              "      <th>2</th>\n",
              "      <td>2</td>\n",
              "      <td>Male</td>\n",
              "      <td>28.0</td>\n",
              "      <td>0</td>\n",
              "      <td>0</td>\n",
              "      <td>never</td>\n",
              "      <td>27.32</td>\n",
              "      <td>5.7</td>\n",
              "      <td>158</td>\n",
              "      <td>0</td>\n",
              "      <td>3000</td>\n",
              "      <td>2021</td>\n",
              "    </tr>\n",
              "    <tr>\n",
              "      <th>3</th>\n",
              "      <td>3</td>\n",
              "      <td>Female</td>\n",
              "      <td>36.0</td>\n",
              "      <td>0</td>\n",
              "      <td>0</td>\n",
              "      <td>current</td>\n",
              "      <td>23.45</td>\n",
              "      <td>5.0</td>\n",
              "      <td>155</td>\n",
              "      <td>0</td>\n",
              "      <td>4000</td>\n",
              "      <td>2021</td>\n",
              "    </tr>\n",
              "    <tr>\n",
              "      <th>4</th>\n",
              "      <td>4</td>\n",
              "      <td>Male</td>\n",
              "      <td>76.0</td>\n",
              "      <td>1</td>\n",
              "      <td>1</td>\n",
              "      <td>current</td>\n",
              "      <td>20.14</td>\n",
              "      <td>4.8</td>\n",
              "      <td>155</td>\n",
              "      <td>0</td>\n",
              "      <td>5000</td>\n",
              "      <td>2021</td>\n",
              "    </tr>\n",
              "    <tr>\n",
              "      <th>...</th>\n",
              "      <td>...</td>\n",
              "      <td>...</td>\n",
              "      <td>...</td>\n",
              "      <td>...</td>\n",
              "      <td>...</td>\n",
              "      <td>...</td>\n",
              "      <td>...</td>\n",
              "      <td>...</td>\n",
              "      <td>...</td>\n",
              "      <td>...</td>\n",
              "      <td>...</td>\n",
              "      <td>...</td>\n",
              "    </tr>\n",
              "    <tr>\n",
              "      <th>199995</th>\n",
              "      <td>99995</td>\n",
              "      <td>Female</td>\n",
              "      <td>81.0</td>\n",
              "      <td>0</td>\n",
              "      <td>0</td>\n",
              "      <td>No Info</td>\n",
              "      <td>27.32</td>\n",
              "      <td>6.2</td>\n",
              "      <td>90</td>\n",
              "      <td>0</td>\n",
              "      <td>99996000</td>\n",
              "      <td>2022</td>\n",
              "    </tr>\n",
              "    <tr>\n",
              "      <th>199996</th>\n",
              "      <td>99996</td>\n",
              "      <td>Female</td>\n",
              "      <td>3.0</td>\n",
              "      <td>0</td>\n",
              "      <td>0</td>\n",
              "      <td>No Info</td>\n",
              "      <td>17.37</td>\n",
              "      <td>6.5</td>\n",
              "      <td>100</td>\n",
              "      <td>0</td>\n",
              "      <td>99997000</td>\n",
              "      <td>2022</td>\n",
              "    </tr>\n",
              "    <tr>\n",
              "      <th>199997</th>\n",
              "      <td>99997</td>\n",
              "      <td>Male</td>\n",
              "      <td>67.0</td>\n",
              "      <td>0</td>\n",
              "      <td>0</td>\n",
              "      <td>former</td>\n",
              "      <td>27.83</td>\n",
              "      <td>5.7</td>\n",
              "      <td>155</td>\n",
              "      <td>0</td>\n",
              "      <td>99998000</td>\n",
              "      <td>2022</td>\n",
              "    </tr>\n",
              "    <tr>\n",
              "      <th>199998</th>\n",
              "      <td>99998</td>\n",
              "      <td>Female</td>\n",
              "      <td>25.0</td>\n",
              "      <td>0</td>\n",
              "      <td>0</td>\n",
              "      <td>never</td>\n",
              "      <td>35.42</td>\n",
              "      <td>4.0</td>\n",
              "      <td>100</td>\n",
              "      <td>0</td>\n",
              "      <td>99999000</td>\n",
              "      <td>2022</td>\n",
              "    </tr>\n",
              "    <tr>\n",
              "      <th>199999</th>\n",
              "      <td>99999</td>\n",
              "      <td>Female</td>\n",
              "      <td>58.0</td>\n",
              "      <td>0</td>\n",
              "      <td>0</td>\n",
              "      <td>current</td>\n",
              "      <td>22.43</td>\n",
              "      <td>6.6</td>\n",
              "      <td>90</td>\n",
              "      <td>0</td>\n",
              "      <td>100000000</td>\n",
              "      <td>2022</td>\n",
              "    </tr>\n",
              "  </tbody>\n",
              "</table>\n",
              "<p>200000 rows × 12 columns</p>\n",
              "</div>\n",
              "      <button class=\"colab-df-convert\" onclick=\"convertToInteractive('df-866a1c85-4af0-4a5d-b7e8-871ccadd2b54')\"\n",
              "              title=\"Convert this dataframe to an interactive table.\"\n",
              "              style=\"display:none;\">\n",
              "        \n",
              "  <svg xmlns=\"http://www.w3.org/2000/svg\" height=\"24px\"viewBox=\"0 0 24 24\"\n",
              "       width=\"24px\">\n",
              "    <path d=\"M0 0h24v24H0V0z\" fill=\"none\"/>\n",
              "    <path d=\"M18.56 5.44l.94 2.06.94-2.06 2.06-.94-2.06-.94-.94-2.06-.94 2.06-2.06.94zm-11 1L8.5 8.5l.94-2.06 2.06-.94-2.06-.94L8.5 2.5l-.94 2.06-2.06.94zm10 10l.94 2.06.94-2.06 2.06-.94-2.06-.94-.94-2.06-.94 2.06-2.06.94z\"/><path d=\"M17.41 7.96l-1.37-1.37c-.4-.4-.92-.59-1.43-.59-.52 0-1.04.2-1.43.59L10.3 9.45l-7.72 7.72c-.78.78-.78 2.05 0 2.83L4 21.41c.39.39.9.59 1.41.59.51 0 1.02-.2 1.41-.59l7.78-7.78 2.81-2.81c.8-.78.8-2.07 0-2.86zM5.41 20L4 18.59l7.72-7.72 1.47 1.35L5.41 20z\"/>\n",
              "  </svg>\n",
              "      </button>\n",
              "      \n",
              "  <style>\n",
              "    .colab-df-container {\n",
              "      display:flex;\n",
              "      flex-wrap:wrap;\n",
              "      gap: 12px;\n",
              "    }\n",
              "\n",
              "    .colab-df-convert {\n",
              "      background-color: #E8F0FE;\n",
              "      border: none;\n",
              "      border-radius: 50%;\n",
              "      cursor: pointer;\n",
              "      display: none;\n",
              "      fill: #1967D2;\n",
              "      height: 32px;\n",
              "      padding: 0 0 0 0;\n",
              "      width: 32px;\n",
              "    }\n",
              "\n",
              "    .colab-df-convert:hover {\n",
              "      background-color: #E2EBFA;\n",
              "      box-shadow: 0px 1px 2px rgba(60, 64, 67, 0.3), 0px 1px 3px 1px rgba(60, 64, 67, 0.15);\n",
              "      fill: #174EA6;\n",
              "    }\n",
              "\n",
              "    [theme=dark] .colab-df-convert {\n",
              "      background-color: #3B4455;\n",
              "      fill: #D2E3FC;\n",
              "    }\n",
              "\n",
              "    [theme=dark] .colab-df-convert:hover {\n",
              "      background-color: #434B5C;\n",
              "      box-shadow: 0px 1px 3px 1px rgba(0, 0, 0, 0.15);\n",
              "      filter: drop-shadow(0px 1px 2px rgba(0, 0, 0, 0.3));\n",
              "      fill: #FFFFFF;\n",
              "    }\n",
              "  </style>\n",
              "\n",
              "      <script>\n",
              "        const buttonEl =\n",
              "          document.querySelector('#df-866a1c85-4af0-4a5d-b7e8-871ccadd2b54 button.colab-df-convert');\n",
              "        buttonEl.style.display =\n",
              "          google.colab.kernel.accessAllowed ? 'block' : 'none';\n",
              "\n",
              "        async function convertToInteractive(key) {\n",
              "          const element = document.querySelector('#df-866a1c85-4af0-4a5d-b7e8-871ccadd2b54');\n",
              "          const dataTable =\n",
              "            await google.colab.kernel.invokeFunction('convertToInteractive',\n",
              "                                                     [key], {});\n",
              "          if (!dataTable) return;\n",
              "\n",
              "          const docLinkHtml = 'Like what you see? Visit the ' +\n",
              "            '<a target=\"_blank\" href=https://colab.research.google.com/notebooks/data_table.ipynb>data table notebook</a>'\n",
              "            + ' to learn more about interactive tables.';\n",
              "          element.innerHTML = '';\n",
              "          dataTable['output_type'] = 'display_data';\n",
              "          await google.colab.output.renderOutput(dataTable, element);\n",
              "          const docLink = document.createElement('div');\n",
              "          docLink.innerHTML = docLinkHtml;\n",
              "          element.appendChild(docLink);\n",
              "        }\n",
              "      </script>\n",
              "    </div>\n",
              "  </div>\n",
              "  "
            ]
          },
          "metadata": {},
          "execution_count": 5
        }
      ]
    },
    {
      "cell_type": "markdown",
      "source": [
        "**Question 1.** According to the CDC, the average BMI in the US is 26.5. I am curious whether the average BMI in this data is similar.\n",
        "\n",
        "**a)** State the null and alternative hypotheses you would use to investigate this."
      ],
      "metadata": {
        "id": "aYoE2URJR8s3"
      }
    },
    {
      "cell_type": "markdown",
      "source": [
        "Replace this text with your answer\n",
        "\n",
        "H0: Average BMI == 26.5\n",
        "\n",
        "HA: Average BMI != 26.5"
      ],
      "metadata": {
        "id": "RGG17eNrJOWD"
      }
    },
    {
      "cell_type": "markdown",
      "source": [
        "**b)** Does our data meet the assumptions necessary to do a t-test? Why or why not?"
      ],
      "metadata": {
        "id": "FmzGLSPj8GKd"
      }
    },
    {
      "cell_type": "code",
      "source": [
        "# Your code here"
      ],
      "metadata": {
        "id": "qBlA21sEC78p"
      },
      "execution_count": null,
      "outputs": []
    },
    {
      "cell_type": "markdown",
      "source": [
        "Replace this text with your answer\n",
        "\n",
        "Data is independent and continuous and large enough we can assume normality so yes. (May or may not be a random sample, but we are testing if its a representative sample so this is ok)"
      ],
      "metadata": {
        "id": "Cztgk1O18Rcn"
      }
    },
    {
      "cell_type": "markdown",
      "source": [
        "**c)** Assume your answer to part b is yes (If you answered no you are not necessarily wrong, just assume this for now.). Which of the 3 types of t-tests would you use to answer this question?"
      ],
      "metadata": {
        "id": "H6h0jfmo8U7x"
      }
    },
    {
      "cell_type": "markdown",
      "source": [
        "Replace this text with your answer\n",
        "\n",
        "one sample t-test"
      ],
      "metadata": {
        "id": "PXtaRDQW8TSG"
      }
    },
    {
      "cell_type": "markdown",
      "source": [
        "**d)** Run the test and report the result. What is your conclusion? Is the average BMI similar?"
      ],
      "metadata": {
        "id": "d90SGf-v-Enb"
      }
    },
    {
      "cell_type": "code",
      "source": [
        "# Your code here\n",
        "print(\"Average in our data\", np.mean(db.bmi))\n",
        "\n",
        "t_stat, p_value = stats.ttest_1samp(db.bmi, 26.5, nan_policy='omit')\n",
        "print(\"T-statistic value: \", t_stat)\n",
        "print(\"P-Value: \", p_value)"
      ],
      "metadata": {
        "id": "-7ELxJg0-E6k",
        "colab": {
          "base_uri": "https://localhost:8080/"
        },
        "outputId": "5b796b3b-584b-4f0f-b40b-bf75cfecb85a"
      },
      "execution_count": null,
      "outputs": [
        {
          "output_type": "stream",
          "name": "stdout",
          "text": [
            "Average in our data 27.320767099999994\n",
            "T-statistic value:  55.30678047920735\n",
            "P-Value:  0.0\n"
          ]
        }
      ]
    },
    {
      "cell_type": "markdown",
      "source": [
        "Reject the null that the average is similar. Looking at the average bmi in our data, it is significantly larger."
      ],
      "metadata": {
        "id": "qehhDQfv-G-_"
      }
    },
    {
      "cell_type": "markdown",
      "source": [
        "**Question 2.** Using the same data, I now want to know if the average bmi is different for men than women.\n",
        "\n",
        "**a)** State the null and alternative hypotheses you would use to investigate this."
      ],
      "metadata": {
        "id": "7_kmgbV9-bj4"
      }
    },
    {
      "cell_type": "markdown",
      "source": [
        "H0: Average BMI for men = Average BMI for women\n",
        "\n",
        "HA: Average BMI for men != Average BMI for women"
      ],
      "metadata": {
        "id": "AEc9I3jY-bj5"
      }
    },
    {
      "cell_type": "markdown",
      "source": [
        "**b)** Does our data meet the assumptions necessary to do a t-test? Why or why not?"
      ],
      "metadata": {
        "id": "Tv7P7YZM-bj5"
      }
    },
    {
      "cell_type": "code",
      "source": [
        "# Your code here\n",
        "\n",
        "print(db.loc[db.gender == \"Male\"].bmi.std())\n",
        "print(db.loc[db.gender == \"Female\"].bmi.std())"
      ],
      "metadata": {
        "colab": {
          "base_uri": "https://localhost:8080/"
        },
        "id": "KSlXbk_GC9H8",
        "outputId": "2978c34d-1501-405e-b673-33ac53acc994"
      },
      "execution_count": null,
      "outputs": [
        {
          "output_type": "stream",
          "name": "stdout",
          "text": [
            "6.223999985879538\n",
            "6.9112161436004556\n"
          ]
        }
      ]
    },
    {
      "cell_type": "markdown",
      "source": [
        "Replace this text with your answer\n",
        "\n",
        "Data is independent,continuous, large enough we can assume normality, and has similar variance so yes.\n",
        "\n"
      ],
      "metadata": {
        "id": "cm2ckeAq-bj5"
      }
    },
    {
      "cell_type": "markdown",
      "source": [
        "**c)** Assume your answer to part b is yes (If you answered no you are not necessarily wrong, just assume this for now.). Which of the 3 types of t-tests would you use to answer this question?"
      ],
      "metadata": {
        "id": "YwcPcjxK-bj5"
      }
    },
    {
      "cell_type": "markdown",
      "source": [
        "Replace this text with your answer\n",
        "\n",
        "Independent samples t-test"
      ],
      "metadata": {
        "id": "oxstqtRP-bj6"
      }
    },
    {
      "cell_type": "markdown",
      "source": [
        "**d)** Run the test and report the result. What is your conclusion? Is the average BMI different?"
      ],
      "metadata": {
        "id": "PsKcCvow-bj6"
      }
    },
    {
      "cell_type": "code",
      "source": [
        "# Your code here\n",
        "\n",
        "print(db.loc[db.gender == \"Male\"].bmi.mean())\n",
        "print(db.loc[db.gender == \"Female\"].bmi.mean())\n",
        "\n",
        "t_stat, p_value = stats.ttest_ind(db.loc[db.gender == \"Male\"].bmi, db.loc[db.gender == \"Female\"].bmi)\n",
        "print(\"T-statistic value: \", t_stat)\n",
        "print(\"P-Value: \", p_value)"
      ],
      "metadata": {
        "id": "k6NTnzOT-bj6",
        "colab": {
          "base_uri": "https://localhost:8080/"
        },
        "outputId": "a16d9a07-ba95-4e10-8616-1df524d296ec"
      },
      "execution_count": null,
      "outputs": [
        {
          "output_type": "stream",
          "name": "stdout",
          "text": [
            "27.139107651460293\n",
            "27.4492869586009\n",
            "T-statistic value:  -10.297888531851164\n",
            "P-Value:  7.3063565644094075e-25\n"
          ]
        }
      ]
    },
    {
      "cell_type": "markdown",
      "source": [
        "Replace this text with your answer\n",
        "\n",
        "Average BMI is significantly lower for males."
      ],
      "metadata": {
        "id": "22--aVfd-bj6"
      }
    },
    {
      "cell_type": "markdown",
      "source": [
        "**Question 3.** In this dataset, we have 2 years of data. Is the rate of diabetes in this population significantly higher in 2022 than in 2021?\n",
        "\n",
        "**a)** State the null and alternative hypotheses you would use to investigate this."
      ],
      "metadata": {
        "id": "AB4RY-_O-tu8"
      }
    },
    {
      "cell_type": "markdown",
      "source": [
        "Replace this text with your answer\n",
        "\n",
        "H0: Incidence rate in 2022 = Incidence rate in 2021\n",
        "\n",
        "HA: Incidence rate in 2022 > Incidence rate in 2021"
      ],
      "metadata": {
        "id": "8Upy5Ydk-tu8"
      }
    },
    {
      "cell_type": "markdown",
      "source": [
        "**b)** Does our data meet the assumptions necessary to do a t-test? Why or why not?"
      ],
      "metadata": {
        "id": "mRRjzzOc-tu8"
      }
    },
    {
      "cell_type": "markdown",
      "source": [
        "Replace this text with your answer\n",
        "\n",
        "No, it is binary and not continuous"
      ],
      "metadata": {
        "id": "uhX9nzTH-tu8"
      }
    },
    {
      "cell_type": "markdown",
      "source": [
        "**c)** Assume your answer to part b is yes (If you answered no you are not necessarily wrong, just assume this for now.). Which of the 3 types of t-tests would you use to answer this question?"
      ],
      "metadata": {
        "id": "sYUFqtI5-tu8"
      }
    },
    {
      "cell_type": "markdown",
      "source": [
        "Replace this text with your answer\n",
        "\n",
        "Paired, one-sided, t-test\n",
        "\n"
      ],
      "metadata": {
        "id": "Hkxr7bXC-tvL"
      }
    },
    {
      "cell_type": "markdown",
      "source": [
        "**d)** Run the test and report the result. What is your conclusion? Is the incidence rate higher?"
      ],
      "metadata": {
        "id": "69uTOJ4Y-tvM"
      }
    },
    {
      "cell_type": "code",
      "source": [
        "# Your code here\n",
        "print(db.loc[db.Year == 2022].diabetes.mean())\n",
        "print(db.loc[db.Year == 2021].diabetes.mean())\n",
        "\n",
        "t_stat, p_value = stats.ttest_rel(db.loc[db.Year == 2022].diabetes, db.loc[db.Year == 2021].diabetes, alternative='greater')\n",
        "print(\"T-statistic value: \", t_stat)\n",
        "print(\"P-Value: \", p_value)"
      ],
      "metadata": {
        "id": "_wLqS9fN-tvM",
        "colab": {
          "base_uri": "https://localhost:8080/"
        },
        "outputId": "6e13258d-6e2d-49e2-c940-7bbc4a53b2ea"
      },
      "execution_count": null,
      "outputs": [
        {
          "output_type": "stream",
          "name": "stdout",
          "text": [
            "0.08419\n",
            "0.085\n",
            "T-statistic value:  -8.40223107283497\n",
            "P-Value:  1.0\n"
          ]
        }
      ]
    },
    {
      "cell_type": "markdown",
      "source": [
        "Replace this text with your answer\n",
        "\n",
        "We cannot reject the null hypothesis that the incident rates are the same."
      ],
      "metadata": {
        "id": "jPdwPF_r-tvM"
      }
    }
  ],
  "metadata": {
    "kernelspec": {
      "display_name": "Python 3 (ipykernel)",
      "language": "python",
      "name": "python3"
    },
    "language_info": {
      "codemirror_mode": {
        "name": "ipython",
        "version": 3
      },
      "file_extension": ".py",
      "mimetype": "text/x-python",
      "name": "python",
      "nbconvert_exporter": "python",
      "pygments_lexer": "ipython3",
      "version": "3.9.12"
    },
    "colab": {
      "provenance": []
    }
  },
  "nbformat": 4,
  "nbformat_minor": 0
}